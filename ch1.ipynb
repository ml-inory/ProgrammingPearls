{
 "cells": [
  {
   "cell_type": "markdown",
   "metadata": {},
   "source": [
    "# 开篇\n",
    "\n",
    "## 问题\n",
    "本章教我们针对算法设计要问出正确的问题。\n",
    "\n",
    "作者的朋友问了他一个问题：“如何给磁盘文件排序？”\n",
    "作者问出了三个关键的问题从而引导出解决方案。\n",
    "\n",
    "Q1：为什么要自己写排序程序而不是用系统自带的排序呢？  \n",
    "A1：由于不明的技术原因无法使用系统自带的程序。  \n",
    "（隐含的思路是 我们应该先尝试显而易见或者容易获得的方案）  \n",
    "\n",
    "Q2：需要排序的内容是什么？文件中有多少条记录？每条记录的格式是什么？  \n",
    "A2：文件最多包含1千万条记录，每条记录都是7位的整数。  \n",
    "（隐含的思路是 数据的结构性对于算法的设计是很有帮助的）  \n",
    "\n",
    "Q3：既然文件这么小，何必非要在磁盘上进行排序呢？为什么不在内存上进行排序呢？  \n",
    "A3：到时只有1MB的内存可用。  \n",
    "（隐含的思路是 要知道算法可用的资源有多少，看菜下饭）  "
   ]
  },
  {
   "cell_type": "markdown",
   "metadata": {},
   "source": [
    "## 准确的问题描述\n",
    "理解了需求以后，就要将需求转化为程序员的描述。\n",
    "\n",
    "输入：一个最多包含n个正整数的文件，每个数都小于n，其中n=10^7。如果输入文件中有任何整数重复出现就是致命错误。没有其他数据与该整数有关联。  \n",
    "输出：按升序排列的输入整数的列表。  \n",
    "约束：最多有（大约）1MB的内存可用，有充足的磁盘空间可用。运行时间最多几分钟，优化到10秒就不需要再优化了。  "
   ]
  },
  {
   "cell_type": "markdown",
   "metadata": {},
   "source": [
    "## 程序设计\n",
    "思路是 我们要渐进式的开发、分析瓶颈、优化。\n",
    "先要有个baseline，对于这个问题的baseline可以是这样的：\n",
    "由于1MB最多可以存250000个32位整数的号码，那么1000 0000个号码就要通过遍历40趟来完成排序。\n",
    "\n",
    "然后我们来想象最理想的情况：1MB内放下1000 0000个号码并且完成排序，也就是我们需要更合适的数据结构。"
   ]
  },
  {
   "cell_type": "markdown",
   "metadata": {},
   "source": [
    "## 实现概要\n",
    "\n",
    "我们可以使用一个具有1000万个位的字符串来表示这个文件，当且仅当第i位存在时，第i位为1。"
   ]
  },
  {
   "cell_type": "code",
   "execution_count": 3,
   "metadata": {},
   "outputs": [],
   "source": [
    "def baseline(x, N):\n",
    "    # phase 1: initialize set to empty\n",
    "    bit = ['0'] * N\n",
    "    # phase 2: insert present elements into the set\n",
    "    for i in x:\n",
    "        bit[i] = '1'\n",
    "    # phase 3: write sorted output\n",
    "    out = []\n",
    "    for i in range(N):\n",
    "        if bit[i] == '1':\n",
    "            # write i on the output file\n",
    "            out.append(i)\n",
    "    return out"
   ]
  },
  {
   "cell_type": "code",
   "execution_count": 12,
   "metadata": {},
   "outputs": [
    {
     "name": "stdout",
     "output_type": "stream",
     "text": [
      "baseline (N=10000000) take 4.161578178405762s\n"
     ]
    }
   ],
   "source": [
    "# Test baseline\n",
    "import random\n",
    "import time\n",
    "\n",
    "N = 10000000\n",
    "x = random.sample(range(N), N)\n",
    "start = time.time()\n",
    "out = baseline(x, N)\n",
    "end = time.time()\n",
    "# print(f\"x: {x}\")\n",
    "# print(f\"out: {out}\")\n",
    "print(f\"baseline (N={N}) take {end - start}s\")"
   ]
  },
  {
   "cell_type": "markdown",
   "metadata": {},
   "source": [
    "## 习题"
   ]
  },
  {
   "cell_type": "code",
   "execution_count": 13,
   "metadata": {},
   "outputs": [
    {
     "name": "stdout",
     "output_type": "stream",
     "text": [
      "sorted (N=10000000) take 8.822932958602905s\n"
     ]
    }
   ],
   "source": [
    "# 1. 如果不缺内存，如何用系统库实现？\n",
    "start = time.time()\n",
    "out = sorted(x)\n",
    "end = time.time()\n",
    "print(f\"sorted (N={N}) take {end - start}s\")"
   ]
  },
  {
   "cell_type": "code",
   "execution_count": null,
   "metadata": {},
   "outputs": [],
   "source": [
    "# 2. 如何使用位运算来实现位向量？\n"
   ]
  }
 ],
 "metadata": {
  "kernelspec": {
   "display_name": "base",
   "language": "python",
   "name": "python3"
  },
  "language_info": {
   "codemirror_mode": {
    "name": "ipython",
    "version": 3
   },
   "file_extension": ".py",
   "mimetype": "text/x-python",
   "name": "python",
   "nbconvert_exporter": "python",
   "pygments_lexer": "ipython3",
   "version": "3.12.2"
  }
 },
 "nbformat": 4,
 "nbformat_minor": 2
}
